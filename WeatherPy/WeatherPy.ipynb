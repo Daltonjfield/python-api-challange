{
 "cells": [
  {
   "cell_type": "markdown",
   "metadata": {},
   "source": [
    "# WeatherPy\n",
    "----\n",
    "\n",
    "#### Note\n",
    "* Instructions have been included for each segment. You do not have to follow them exactly, but they are included to help you think through the steps."
   ]
  },
  {
   "cell_type": "code",
   "execution_count": 24,
   "metadata": {
    "scrolled": true
   },
   "outputs": [],
   "source": [
    "# Dependencies and Setup\n",
    "import matplotlib.pyplot as plt\n",
    "import pandas as pd\n",
    "import numpy as np\n",
    "import requests\n",
    "import time\n",
    "from scipy.stats import linregress\n",
    "import scipy.stats as st\n",
    "from scipy import stats\n",
    "from pprint import pprint\n",
    "\n",
    "# Import API key\n",
    "from api_keys import weather_api_key\n",
    "\n",
    "# Incorporated citipy to determine city based on latitude and longitude\n",
    "from citipy import citipy\n",
    "\n",
    "# Output File (CSV)\n",
    "output_data_file = \"output_data/cities.csv\"\n",
    "\n",
    "# Range of latitudes and longitudes\n",
    "lat_range = (-90, 90)\n",
    "lng_range = (-180, 180)"
   ]
  },
  {
   "cell_type": "markdown",
   "metadata": {},
   "source": [
    "## Generate Cities List"
   ]
  },
  {
   "cell_type": "code",
   "execution_count": 2,
   "metadata": {},
   "outputs": [
    {
     "data": {
      "text/plain": [
       "609"
      ]
     },
     "execution_count": 2,
     "metadata": {},
     "output_type": "execute_result"
    }
   ],
   "source": [
    "# List for holding lat_lngs and cities\n",
    "lat_lngs = []\n",
    "cities = []\n",
    "\n",
    "# Create a set of random lat and lng combinations\n",
    "lats = np.random.uniform(lat_range[0], lat_range[1], size=1500)\n",
    "lngs = np.random.uniform(lng_range[0], lng_range[1], size=1500)\n",
    "lat_lngs = zip(lats, lngs)\n",
    "\n",
    "# Identify nearest city for each lat, lng combination\n",
    "for lat_lng in lat_lngs:\n",
    "    city = citipy.nearest_city(lat_lng[0], lat_lng[1]).city_name\n",
    "    \n",
    "    # If the city is unique, then add it to a our cities list\n",
    "    if city not in cities:\n",
    "        cities.append(city)\n",
    "\n",
    "# Print the city count to confirm sufficient count\n",
    "len(cities)"
   ]
  },
  {
   "cell_type": "markdown",
   "metadata": {},
   "source": [
    "### Perform API Calls\n",
    "* Perform a weather check on each city using a series of successive API calls.\n",
    "* Include a print log of each city as it'sbeing processed (with the city number and city name).\n"
   ]
  },
  {
   "cell_type": "code",
   "execution_count": 6,
   "metadata": {
    "scrolled": true
   },
   "outputs": [
    {
     "name": "stdout",
     "output_type": "stream",
     "text": [
      "Beginning Data Retrival\n",
      "-----------------------------\n",
      "Processing Record 1 of Set 1 | Pangnirtung\n",
      "Processing Record 2 of Set 1 | Santa Fe\n",
      "Processing Record 3 of Set 1 | Sitka\n",
      "Processing Record 4 of Set 1 | Qaanaaq\n",
      "Processing Record 5 of Set 1 | Iquitos\n",
      "City not found. Skipping...\n",
      "Processing Record 6 of Set 1 | Busselton\n",
      "Processing Record 7 of Set 1 | Lufilufi\n",
      "Processing Record 8 of Set 1 | Rikitea\n",
      "City not found. Skipping...\n",
      "Processing Record 9 of Set 1 | Aginskoye\n",
      "City not found. Skipping...\n",
      "Processing Record 10 of Set 1 | Koygorodok\n",
      "Processing Record 11 of Set 1 | Husavik\n",
      "Processing Record 12 of Set 1 | Cayenne\n",
      "Processing Record 13 of Set 1 | Bluff\n",
      "Processing Record 14 of Set 1 | Ushuaia\n",
      "Processing Record 15 of Set 1 | Katsuura\n",
      "Processing Record 16 of Set 1 | Rudnogorsk\n",
      "Processing Record 17 of Set 1 | Khatanga\n",
      "Processing Record 18 of Set 1 | Cidreira\n",
      "Processing Record 19 of Set 1 | Port Alfred\n",
      "Processing Record 20 of Set 1 | Cape Town\n",
      "Processing Record 21 of Set 1 | Genhe\n",
      "Processing Record 22 of Set 1 | Kaseda-shirakame\n",
      "Processing Record 23 of Set 1 | Hermanus\n",
      "Processing Record 24 of Set 1 | Dzerzhinskoye\n",
      "Processing Record 25 of Set 1 | Hilo\n",
      "Processing Record 26 of Set 1 | Atuona\n",
      "Processing Record 27 of Set 1 | Haines Junction\n",
      "Processing Record 28 of Set 1 | Bethel\n",
      "Processing Record 29 of Set 1 | Anadyr\n",
      "City not found. Skipping...\n",
      "Processing Record 30 of Set 1 | Terra Santa\n",
      "Processing Record 31 of Set 1 | Saskylakh\n",
      "Processing Record 32 of Set 1 | Perth\n",
      "Processing Record 33 of Set 1 | Dingle\n",
      "Processing Record 34 of Set 1 | Novy Urengoy\n",
      "Processing Record 35 of Set 1 | Manga\n",
      "Processing Record 36 of Set 1 | Saint George\n",
      "Processing Record 37 of Set 1 | Kawalu\n",
      "Processing Record 38 of Set 1 | Charters Towers\n",
      "Processing Record 39 of Set 1 | Severo-Kuril'sk\n",
      "Processing Record 40 of Set 1 | Castro\n",
      "Processing Record 41 of Set 1 | Cabo San Lucas\n",
      "Processing Record 42 of Set 1 | New Norfolk\n",
      "Processing Record 43 of Set 1 | Vestmanna\n",
      "Processing Record 44 of Set 1 | Akranes\n",
      "Processing Record 45 of Set 1 | Hong Kong\n",
      "Processing Record 46 of Set 1 | Tiksi\n",
      "Processing Record 47 of Set 1 | Butaritari\n",
      "Processing Record 48 of Set 1 | Albany\n",
      "Processing Record 49 of Set 1 | Arraial do Cabo\n",
      "Processing Record 50 of Set 1 | Faanui\n",
      "City not found. Skipping...\n",
      "Processing Record 2 of Set 1 | Hobart\n",
      "City not found. Skipping...\n",
      "Processing Record 3 of Set 1 | Vaini\n",
      "Processing Record 4 of Set 1 | Chokurdakh\n",
      "Processing Record 5 of Set 1 | Klyuchi\n",
      "Processing Record 6 of Set 1 | Mount Gambier\n",
      "Processing Record 7 of Set 1 | Hofn\n",
      "Processing Record 8 of Set 1 | Mount Isa\n",
      "Processing Record 9 of Set 1 | General Roca\n",
      "Processing Record 10 of Set 1 | Mataura\n",
      "City not found. Skipping...\n",
      "Processing Record 11 of Set 1 | Lebu\n",
      "Processing Record 12 of Set 1 | Bambous Virieux\n",
      "City not found. Skipping...\n",
      "Processing Record 13 of Set 1 | São Filipe\n",
      "Processing Record 14 of Set 1 | Puyang\n",
      "Processing Record 15 of Set 1 | Mocuba\n",
      "Processing Record 16 of Set 1 | Constitución\n",
      "Processing Record 17 of Set 1 | Thompson\n",
      "Processing Record 18 of Set 1 | Adiaké\n",
      "Processing Record 19 of Set 1 | Daru\n",
      "Processing Record 20 of Set 1 | Kapaa\n",
      "Processing Record 21 of Set 1 | Avarua\n",
      "Processing Record 22 of Set 1 | Iqaluit\n",
      "Processing Record 23 of Set 1 | Panabá\n",
      "Processing Record 24 of Set 1 | Baykit\n",
      "Processing Record 25 of Set 1 | Ambon City\n",
      "Processing Record 26 of Set 1 | Qingyang\n",
      "Processing Record 27 of Set 1 | Nikolskoye\n",
      "Processing Record 28 of Set 1 | Bourail\n",
      "Processing Record 29 of Set 1 | Tasiilaq\n",
      "Processing Record 30 of Set 1 | Portland\n",
      "City not found. Skipping...\n",
      "Processing Record 31 of Set 1 | Lagoa\n",
      "Processing Record 32 of Set 1 | Korfovskiy\n",
      "Processing Record 33 of Set 1 | Kruisfontein\n",
      "Processing Record 34 of Set 1 | Ligayan\n",
      "Processing Record 35 of Set 1 | Coquimbo\n",
      "City not found. Skipping...\n",
      "Processing Record 36 of Set 1 | Tuatapere\n",
      "Processing Record 37 of Set 1 | Manono\n",
      "Processing Record 38 of Set 1 | Puerto Ayora\n",
      "Processing Record 39 of Set 1 | Dīr\n",
      "Processing Record 40 of Set 1 | Yellowknife\n",
      "Processing Record 41 of Set 1 | Port Elizabeth\n",
      "Processing Record 42 of Set 1 | San Patricio\n",
      "Processing Record 43 of Set 1 | Marovoay\n",
      "Processing Record 44 of Set 1 | Lukulu\n",
      "Processing Record 45 of Set 1 | Airai\n",
      "Processing Record 46 of Set 1 | Trat\n",
      "Processing Record 47 of Set 1 | Paragominas\n",
      "Processing Record 48 of Set 1 | Valdivia\n",
      "Processing Record 49 of Set 1 | Sibolga\n",
      "Processing Record 50 of Set 1 | Olafsvik\n",
      "City not found. Skipping...\n",
      "Processing Record 2 of Set 1 | Vardø\n",
      "Processing Record 3 of Set 1 | Atikokan\n",
      "Processing Record 4 of Set 1 | Aklavik\n",
      "Processing Record 5 of Set 1 | Hirara\n",
      "Processing Record 6 of Set 1 | Esso\n",
      "Processing Record 7 of Set 1 | Poum\n",
      "Processing Record 8 of Set 1 | East London\n",
      "Processing Record 9 of Set 1 | Beaverlodge\n",
      "Processing Record 10 of Set 1 | Caravelas\n",
      "Processing Record 11 of Set 1 | Narsaq\n",
      "Processing Record 12 of Set 1 | Deputatsky\n",
      "Processing Record 13 of Set 1 | Senno\n",
      "Processing Record 14 of Set 1 | Torbay\n",
      "Processing Record 15 of Set 1 | Jamestown\n",
      "Processing Record 16 of Set 1 | Bredasdorp\n",
      "Processing Record 17 of Set 1 | Jarocin\n",
      "Processing Record 18 of Set 1 | Dwārka\n",
      "Processing Record 19 of Set 1 | Punta Arenas\n",
      "Processing Record 20 of Set 1 | Mahébourg\n",
      "Processing Record 21 of Set 1 | Tadine\n",
      "Processing Record 22 of Set 1 | Springfield\n",
      "Processing Record 23 of Set 1 | Sungai Penuh\n",
      "Processing Record 24 of Set 1 | Karla\n",
      "Processing Record 25 of Set 1 | Ardakān\n",
      "City not found. Skipping...\n",
      "Processing Record 26 of Set 1 | Chui\n",
      "Processing Record 27 of Set 1 | Zyryanovsk\n",
      "Processing Record 28 of Set 1 | Nísia Floresta\n",
      "Processing Record 29 of Set 1 | Fairbanks\n",
      "Processing Record 30 of Set 1 | Wad Rāwah\n",
      "Processing Record 31 of Set 1 | Hasaki\n",
      "Processing Record 32 of Set 1 | Hithadhoo\n",
      "Processing Record 33 of Set 1 | Nanortalik\n",
      "Processing Record 34 of Set 1 | Comodoro Rivadavia\n",
      "Processing Record 35 of Set 1 | Majene\n",
      "Processing Record 36 of Set 1 | Okhtyrka\n",
      "Processing Record 37 of Set 1 | Iwanai\n",
      "Processing Record 38 of Set 1 | Los Llanos de Aridane\n",
      "Processing Record 39 of Set 1 | Coyhaique\n",
      "Processing Record 40 of Set 1 | Rāisinghnagar\n",
      "Processing Record 41 of Set 1 | Maxixe\n",
      "Processing Record 42 of Set 1 | Rio Grande\n",
      "Processing Record 43 of Set 1 | Mar del Plata\n",
      "Processing Record 44 of Set 1 | Tilichiki\n",
      "City not found. Skipping...\n",
      "Processing Record 45 of Set 1 | Isabela\n",
      "Processing Record 46 of Set 1 | College\n",
      "Processing Record 47 of Set 1 | Walvis Bay\n",
      "Processing Record 48 of Set 1 | Saint-Joseph\n",
      "Processing Record 49 of Set 1 | Goroka\n",
      "Processing Record 50 of Set 1 | Il'inskoye-Khovanskoye\n",
      "City not found. Skipping...\n",
      "Processing Record 2 of Set 1 | Tuktoyaktuk\n",
      "Processing Record 3 of Set 1 | Mogadishu\n",
      "Processing Record 4 of Set 1 | Port Hedland\n",
      "Processing Record 5 of Set 1 | Khanbari\n",
      "Processing Record 6 of Set 1 | Trelew\n",
      "Processing Record 7 of Set 1 | Egvekinot\n",
      "Processing Record 8 of Set 1 | Pacifica\n",
      "Processing Record 9 of Set 1 | Nioro\n",
      "Processing Record 10 of Set 1 | Longyearbyen\n",
      "City not found. Skipping...\n",
      "Processing Record 11 of Set 1 | Markdale\n",
      "Processing Record 12 of Set 1 | Ponta do Sol\n",
      "Processing Record 13 of Set 1 | Usinsk\n",
      "Processing Record 14 of Set 1 | La Ronge\n",
      "Processing Record 15 of Set 1 | Forsytheganj\n",
      "Processing Record 16 of Set 1 | Emerald\n",
      "Processing Record 17 of Set 1 | Avera\n",
      "Processing Record 18 of Set 1 | Chapais\n",
      "Processing Record 19 of Set 1 | Saint Paul Harbor\n",
      "Processing Record 20 of Set 1 | Lüderitz\n",
      "Processing Record 21 of Set 1 | Lompoc\n",
      "Processing Record 22 of Set 1 | Vitry-le-François\n",
      "Processing Record 23 of Set 1 | Imbituba\n",
      "Processing Record 24 of Set 1 | Naze\n",
      "Processing Record 25 of Set 1 | Sinnamary\n",
      "Processing Record 26 of Set 1 | Ostrovnoy\n",
      "Processing Record 27 of Set 1 | São Gabriel da Cachoeira\n",
      "Processing Record 28 of Set 1 | Taoudenni\n",
      "Processing Record 29 of Set 1 | Keetmanshoop\n",
      "Processing Record 30 of Set 1 | Mwene-Ditu\n",
      "Processing Record 31 of Set 1 | Jinji\n",
      "City not found. Skipping...\n",
      "Processing Record 32 of Set 1 | High Level\n",
      "Processing Record 33 of Set 1 | Vanimo\n",
      "Processing Record 34 of Set 1 | Ancud\n",
      "Processing Record 35 of Set 1 | Luwuk\n",
      "Processing Record 36 of Set 1 | Mutsu\n",
      "Processing Record 37 of Set 1 | Anori\n",
      "Processing Record 38 of Set 1 | Pevek\n",
      "Processing Record 39 of Set 1 | Tiznit Province\n"
     ]
    },
    {
     "name": "stdout",
     "output_type": "stream",
     "text": [
      "City not found. Skipping...\n",
      "Processing Record 40 of Set 1 | Barrow\n",
      "Processing Record 41 of Set 1 | Sola\n",
      "Processing Record 42 of Set 1 | Sarāhan\n",
      "Processing Record 43 of Set 1 | Kavieng\n",
      "Processing Record 44 of Set 1 | Kisangani\n",
      "Processing Record 45 of Set 1 | Nikki\n",
      "Processing Record 46 of Set 1 | Padang\n",
      "Processing Record 47 of Set 1 | North Bend\n",
      "Processing Record 48 of Set 1 | Geraldton\n",
      "City not found. Skipping...\n",
      "Processing Record 49 of Set 1 | Sakakah\n",
      "Processing Record 50 of Set 1 | Ilulissat\n",
      "City not found. Skipping...\n",
      "Processing Record 2 of Set 1 | Alyangula\n",
      "Processing Record 3 of Set 1 | Shingū\n",
      "Processing Record 4 of Set 1 | Erzurum Province\n",
      "Processing Record 5 of Set 1 | Aitape\n",
      "Processing Record 6 of Set 1 | Faya\n",
      "Processing Record 7 of Set 1 | Milas\n",
      "Processing Record 8 of Set 1 | Leningradskiy\n",
      "Processing Record 9 of Set 1 | Saldanha\n",
      "Processing Record 10 of Set 1 | West Wendover\n",
      "Processing Record 11 of Set 1 | Mokobeng\n",
      "Processing Record 12 of Set 1 | Esperance\n",
      "Processing Record 13 of Set 1 | Tutóia\n",
      "Processing Record 14 of Set 1 | Tokur\n",
      "Processing Record 15 of Set 1 | Carnarvon\n",
      "Processing Record 16 of Set 1 | Nemuro\n",
      "Processing Record 17 of Set 1 | Fortuna\n",
      "Processing Record 18 of Set 1 | Ejido\n",
      "Processing Record 19 of Set 1 | Beidao\n",
      "Processing Record 20 of Set 1 | Metro\n",
      "Processing Record 21 of Set 1 | Takoradze\n",
      "Processing Record 22 of Set 1 | Reconquista\n",
      "Processing Record 23 of Set 1 | Khakhea\n",
      "Processing Record 24 of Set 1 | Ayan\n",
      "Processing Record 25 of Set 1 | Thunder Bay\n",
      "Processing Record 26 of Set 1 | Stornoway\n",
      "Processing Record 27 of Set 1 | Nouadhibou\n",
      "Processing Record 28 of Set 1 | Naples\n",
      "Processing Record 29 of Set 1 | Baracoa\n",
      "Processing Record 30 of Set 1 | North Platte\n",
      "City not found. Skipping...\n",
      "Processing Record 31 of Set 1 | Juba\n",
      "City not found. Skipping...\n",
      "Processing Record 32 of Set 1 | São Félix do Xingu\n",
      "Processing Record 33 of Set 1 | Tatarsk\n",
      "Processing Record 34 of Set 1 | Galesong\n",
      "Processing Record 35 of Set 1 | Codrington\n",
      "Processing Record 36 of Set 1 | Stann Creek Town\n",
      "Processing Record 37 of Set 1 | Bartica\n",
      "Processing Record 38 of Set 1 | Fairlie\n",
      "Processing Record 39 of Set 1 | Namie\n",
      "Processing Record 40 of Set 1 | Vila\n",
      "Processing Record 41 of Set 1 | Alekseyevsk\n",
      "Processing Record 42 of Set 1 | Saint-Philippe\n",
      "City not found. Skipping...\n",
      "Processing Record 43 of Set 1 | Khandyga\n",
      "Processing Record 44 of Set 1 | Dikson\n",
      "City not found. Skipping...\n",
      "Processing Record 45 of Set 1 | Pangody\n",
      "Processing Record 46 of Set 1 | Yenagoa\n",
      "Processing Record 47 of Set 1 | Shubarkuduk\n",
      "Processing Record 48 of Set 1 | Nantucket\n",
      "Processing Record 49 of Set 1 | Thinadhoo\n",
      "Processing Record 50 of Set 1 | Vostok\n",
      "City not found. Skipping...\n",
      "Processing Record 2 of Set 1 | Maniitsoq\n",
      "Processing Record 3 of Set 1 | San Jose\n",
      "City not found. Skipping...\n",
      "Processing Record 4 of Set 1 | George Town\n",
      "Processing Record 5 of Set 1 | Sattenapalle\n",
      "Processing Record 6 of Set 1 | Sept-Îles\n",
      "Processing Record 7 of Set 1 | Mbanza-Ngungu\n",
      "Processing Record 8 of Set 1 | Arrondissement de Vichy\n",
      "Processing Record 9 of Set 1 | Katherine\n",
      "Processing Record 10 of Set 1 | Kavaratti\n",
      "Processing Record 11 of Set 1 | Khani\n",
      "Processing Record 12 of Set 1 | Cap Malheureux\n",
      "Processing Record 13 of Set 1 | Suslovo\n",
      "Processing Record 14 of Set 1 | Flinders\n",
      "Processing Record 15 of Set 1 | Xining\n",
      "Processing Record 16 of Set 1 | Abu Dhabi\n",
      "Processing Record 17 of Set 1 | Klaksvík\n",
      "Processing Record 18 of Set 1 | Upernavik\n",
      "City not found. Skipping...\n",
      "Processing Record 19 of Set 1 | Shetpe\n",
      "Processing Record 20 of Set 1 | Ozinki\n",
      "Processing Record 21 of Set 1 | Isangel\n",
      "Processing Record 22 of Set 1 | Umm Hājar\n",
      "Processing Record 23 of Set 1 | Fort Morgan\n",
      "Processing Record 24 of Set 1 | Khovd\n",
      "Processing Record 25 of Set 1 | Oyama\n",
      "City not found. Skipping...\n",
      "Processing Record 26 of Set 1 | Kiryat Gat\n",
      "Processing Record 27 of Set 1 | Inyonga\n",
      "Processing Record 28 of Set 1 | Piney Green\n",
      "Processing Record 29 of Set 1 | Paamiut\n",
      "City not found. Skipping...\n",
      "Processing Record 30 of Set 1 | Olinda\n",
      "Processing Record 31 of Set 1 | Athabasca\n",
      "City not found. Skipping...\n",
      "Processing Record 32 of Set 1 | Villa de Reyes\n",
      "Processing Record 33 of Set 1 | Toora-Khem\n",
      "Processing Record 34 of Set 1 | Uray\n",
      "Processing Record 35 of Set 1 | Puri\n",
      "Processing Record 36 of Set 1 | Garoowe\n",
      "Processing Record 37 of Set 1 | Coari\n",
      "Processing Record 38 of Set 1 | Cibitung\n",
      "Processing Record 39 of Set 1 | Puerto Madryn\n",
      "Processing Record 40 of Set 1 | Tabou\n",
      "Processing Record 41 of Set 1 | Broome\n",
      "Processing Record 42 of Set 1 | Acaraú\n",
      "Processing Record 43 of Set 1 | Port Keats\n",
      "Processing Record 44 of Set 1 | Pervomayskiy\n",
      "City not found. Skipping...\n",
      "Processing Record 45 of Set 1 | Måløy\n",
      "Processing Record 46 of Set 1 | Port Hueneme\n",
      "Processing Record 47 of Set 1 | Wilmington\n",
      "Processing Record 48 of Set 1 | Evensk\n",
      "Processing Record 49 of Set 1 | Les Escoumins\n",
      "Processing Record 50 of Set 1 | Sisimiut\n",
      "City not found. Skipping...\n",
      "Processing Record 2 of Set 1 | Melilla\n",
      "Processing Record 3 of Set 1 | Tocopilla\n",
      "Processing Record 4 of Set 1 | Encruzilhada do Sul\n",
      "Processing Record 5 of Set 1 | Arlit\n",
      "Processing Record 6 of Set 1 | Goundam\n",
      "Processing Record 7 of Set 1 | La Massana\n",
      "Processing Record 8 of Set 1 | Pudozh\n",
      "Processing Record 9 of Set 1 | São João da Barra\n",
      "Processing Record 10 of Set 1 | Cherskiy\n",
      "Processing Record 11 of Set 1 | San Ignacio\n",
      "Processing Record 12 of Set 1 | Montrose\n",
      "Processing Record 13 of Set 1 | Te Anau\n",
      "Processing Record 14 of Set 1 | Fayaoué\n",
      "Processing Record 15 of Set 1 | Kostivere\n",
      "Processing Record 16 of Set 1 | Naranjal\n",
      "Processing Record 17 of Set 1 | Zatoka\n",
      "Processing Record 18 of Set 1 | Longmont\n",
      "Processing Record 19 of Set 1 | Ulladulla\n",
      "Processing Record 20 of Set 1 | Richards Bay\n",
      "Processing Record 21 of Set 1 | Nishihara\n",
      "Processing Record 22 of Set 1 | Pangai\n",
      "Processing Record 23 of Set 1 | Santa Maria\n",
      "Processing Record 24 of Set 1 | Imeni Sverdlova\n",
      "Processing Record 25 of Set 1 | Hervey Bay\n",
      "Processing Record 26 of Set 1 | Ternate\n",
      "Processing Record 27 of Set 1 | Zhigansk\n",
      "Processing Record 28 of Set 1 | Okha\n",
      "Processing Record 29 of Set 1 | Ribeira Grande\n",
      "Processing Record 30 of Set 1 | Dukat\n",
      "Processing Record 31 of Set 1 | Itaporanga\n",
      "Processing Record 32 of Set 1 | Toamasina\n",
      "Processing Record 33 of Set 1 | Manadhoo\n",
      "Processing Record 34 of Set 1 | Maceió\n",
      "City not found. Skipping...\n",
      "Processing Record 35 of Set 1 | Muisne\n",
      "Processing Record 36 of Set 1 | Keshorai Pātan\n",
      "City not found. Skipping...\n",
      "Processing Record 37 of Set 1 | Tabuk\n",
      "Processing Record 38 of Set 1 | Lluta\n",
      "Processing Record 39 of Set 1 | Nador\n",
      "Processing Record 40 of Set 1 | Broken Hill\n",
      "Processing Record 41 of Set 1 | Oskarshamn\n",
      "Processing Record 42 of Set 1 | Nokaneng\n",
      "Processing Record 43 of Set 1 | Maragogi\n",
      "Processing Record 44 of Set 1 | Mugur-Aksy\n",
      "Processing Record 45 of Set 1 | Lorengau\n",
      "Processing Record 46 of Set 1 | Agua Verde\n",
      "Processing Record 47 of Set 1 | Oxford\n",
      "Processing Record 48 of Set 1 | Berdigestyakh\n",
      "Processing Record 49 of Set 1 | Dunedin\n",
      "Processing Record 50 of Set 1 | Bengkulu\n",
      "City not found. Skipping...\n",
      "City not found. Skipping...\n",
      "Processing Record 2 of Set 1 | Kropotkin\n",
      "Processing Record 3 of Set 1 | Tezu\n",
      "Processing Record 4 of Set 1 | Mwense\n",
      "Processing Record 5 of Set 1 | Atar\n",
      "Processing Record 6 of Set 1 | Yantal'\n",
      "Processing Record 7 of Set 1 | Yenotayevka\n",
      "Processing Record 8 of Set 1 | Benguela\n",
      "Processing Record 9 of Set 1 | Xuanzhou\n",
      "Processing Record 10 of Set 1 | La Crosse\n",
      "Processing Record 11 of Set 1 | Touros\n",
      "Processing Record 12 of Set 1 | Bonavista\n",
      "Processing Record 13 of Set 1 | Maraã\n",
      "Processing Record 14 of Set 1 | Gaoual\n",
      "Processing Record 15 of Set 1 | Rocha\n",
      "Processing Record 16 of Set 1 | Kieta\n",
      "Processing Record 17 of Set 1 | Phan Thiet\n",
      "City not found. Skipping...\n",
      "Processing Record 18 of Set 1 | Calabozo\n",
      "Processing Record 19 of Set 1 | Manokwari\n",
      "Processing Record 20 of Set 1 | Provideniya\n",
      "Processing Record 21 of Set 1 | Danielskuil\n",
      "Processing Record 22 of Set 1 | Wuwei\n",
      "Processing Record 23 of Set 1 | Banda Aceh\n",
      "Processing Record 24 of Set 1 | Adrar\n",
      "Processing Record 25 of Set 1 | Kouango\n",
      "Processing Record 26 of Set 1 | Nome\n",
      "Processing Record 27 of Set 1 | Carballo\n",
      "Processing Record 28 of Set 1 | The Valley\n",
      "Processing Record 29 of Set 1 | Beisfjord\n"
     ]
    },
    {
     "name": "stdout",
     "output_type": "stream",
     "text": [
      "Processing Record 30 of Set 1 | Amarante do Maranhão\n",
      "Processing Record 31 of Set 1 | Petropavlovsk-Kamchatskiy\n",
      "Processing Record 32 of Set 1 | Kanturk\n",
      "Processing Record 33 of Set 1 | Agadez\n",
      "Processing Record 34 of Set 1 | Wajima\n",
      "Processing Record 35 of Set 1 | Pathein\n",
      "Processing Record 36 of Set 1 | Alice Springs\n",
      "City not found. Skipping...\n",
      "Processing Record 37 of Set 1 | Brza Palanka\n",
      "Processing Record 38 of Set 1 | Honiara\n",
      "Processing Record 39 of Set 1 | Oakham\n",
      "Processing Record 40 of Set 1 | Kovdor\n",
      "Processing Record 41 of Set 1 | ‘Ewa Beach\n",
      "Processing Record 42 of Set 1 | Karratha\n",
      "Processing Record 43 of Set 1 | Clyde River\n",
      "Processing Record 44 of Set 1 | Kudahuvadhoo\n",
      "Processing Record 45 of Set 1 | Westport\n",
      "Processing Record 46 of Set 1 | Rameswaram\n",
      "Processing Record 47 of Set 1 | Tambun\n",
      "Processing Record 48 of Set 1 | Pisco\n",
      "Processing Record 49 of Set 1 | Acapulco de Juárez\n",
      "Processing Record 50 of Set 1 | Sergeevka\n",
      "City not found. Skipping...\n",
      "Processing Record 2 of Set 1 | Christchurch\n",
      "Processing Record 3 of Set 1 | Owerri\n",
      "Processing Record 4 of Set 1 | Talnakh\n",
      "Processing Record 5 of Set 1 | Saint Anthony\n",
      "Processing Record 6 of Set 1 | Samarai\n",
      "Processing Record 7 of Set 1 | Flagstaff\n",
      "Processing Record 8 of Set 1 | Mungwi\n",
      "Processing Record 9 of Set 1 | Tazovsky\n",
      "Processing Record 10 of Set 1 | Andenes\n",
      "Processing Record 11 of Set 1 | Laguna\n",
      "City not found. Skipping...\n",
      "Processing Record 12 of Set 1 | Itoman\n",
      "City not found. Skipping...\n",
      "Processing Record 13 of Set 1 | Kahului\n",
      "Processing Record 14 of Set 1 | Jumla\n",
      "Processing Record 15 of Set 1 | Praia da Vitória\n",
      "City not found. Skipping...\n",
      "Processing Record 16 of Set 1 | Plácido de Castro\n",
      "Processing Record 17 of Set 1 | San Quintín\n",
      "Processing Record 18 of Set 1 | Luján\n",
      "Processing Record 19 of Set 1 | Port Lincoln\n",
      "Processing Record 20 of Set 1 | Emba\n",
      "Processing Record 21 of Set 1 | Le Vauclin\n",
      "City not found. Skipping...\n",
      "Processing Record 22 of Set 1 | Anda\n",
      "Processing Record 23 of Set 1 | Kapit\n",
      "Processing Record 24 of Set 1 | Ahipara\n",
      "Processing Record 25 of Set 1 | Babynino\n",
      "Processing Record 26 of Set 1 | Cuauhtémoc\n",
      "Processing Record 27 of Set 1 | Port Hawkesbury\n",
      "Processing Record 28 of Set 1 | Dolinsk\n",
      "Processing Record 29 of Set 1 | Kofelē\n",
      "Processing Record 30 of Set 1 | Oxbow\n",
      "Processing Record 31 of Set 1 | Havøysund\n",
      "Processing Record 32 of Set 1 | Mt. Pleasant\n",
      "Processing Record 33 of Set 1 | Sittwe\n",
      "Processing Record 34 of Set 1 | Oudtshoorn\n",
      "Processing Record 35 of Set 1 | Salalah\n",
      "Processing Record 36 of Set 1 | Søvik\n",
      "Processing Record 37 of Set 1 | Jaitāran\n",
      "Processing Record 38 of Set 1 | Guatavita\n",
      "Processing Record 39 of Set 1 | Cascais\n",
      "Processing Record 40 of Set 1 | Fort Nelson\n",
      "Processing Record 41 of Set 1 | Verkhniye Sergi\n",
      "Processing Record 42 of Set 1 | Lincoln\n",
      "Processing Record 43 of Set 1 | Zhangye\n",
      "Processing Record 44 of Set 1 | Binon-an\n",
      "Processing Record 45 of Set 1 | Yarkovo\n",
      "Processing Record 46 of Set 1 | Qui Nhon\n",
      "Processing Record 47 of Set 1 | Izumo\n",
      "Processing Record 48 of Set 1 | Marrakesh\n",
      "Processing Record 49 of Set 1 | Fort Saint James\n",
      "City not found. Skipping...\n",
      "Processing Record 50 of Set 1 | Taltal\n",
      "City not found. Skipping...\n",
      "Processing Record 2 of Set 1 | Pendleton\n",
      "Processing Record 3 of Set 1 | Villamontes\n",
      "Processing Record 4 of Set 1 | Palmer\n",
      "Processing Record 5 of Set 1 | Harper\n",
      "Processing Record 6 of Set 1 | Waipawa\n",
      "Processing Record 7 of Set 1 | Shuya\n",
      "Processing Record 8 of Set 1 | Loei\n",
      "Processing Record 9 of Set 1 | Colac\n",
      "Processing Record 10 of Set 1 | Inhambane\n",
      "Processing Record 11 of Set 1 | Jelenia Góra\n",
      "City not found. Skipping...\n",
      "Processing Record 12 of Set 1 | Ushtobe\n",
      "City not found. Skipping...\n",
      "Processing Record 13 of Set 1 | Mirador\n",
      "Processing Record 14 of Set 1 | Rakovski\n",
      "Processing Record 15 of Set 1 | Itamarandiba\n",
      "Processing Record 16 of Set 1 | Locri\n",
      "Processing Record 17 of Set 1 | Guerrero Negro\n",
      "City not found. Skipping...\n",
      "Processing Record 18 of Set 1 | Port Hardy\n",
      "Processing Record 19 of Set 1 | Mehamn\n",
      "Processing Record 20 of Set 1 | Makkah al Mukarramah\n",
      "Processing Record 21 of Set 1 | Hirado\n",
      "Processing Record 22 of Set 1 | Norman Wells\n",
      "Processing Record 23 of Set 1 | Lucapa\n",
      "City not found. Skipping...\n",
      "Processing Record 24 of Set 1 | Mokhotlong\n",
      "Processing Record 25 of Set 1 | Hamilton\n",
      "Processing Record 26 of Set 1 | Aktash\n",
      "Processing Record 27 of Set 1 | Nisibis\n",
      "Processing Record 28 of Set 1 | Anchorage\n",
      "Processing Record 29 of Set 1 | Bom Jardim\n",
      "Processing Record 30 of Set 1 | Beloha\n",
      "City not found. Skipping...\n",
      "Processing Record 31 of Set 1 | Saint-Augustin\n",
      "Processing Record 32 of Set 1 | Kaitangata\n",
      "Processing Record 33 of Set 1 | Bathsheba\n",
      "Processing Record 34 of Set 1 | Hay River\n",
      "Processing Record 35 of Set 1 | Havre-St-Pierre\n",
      "Processing Record 36 of Set 1 | Jalingo\n",
      "Processing Record 37 of Set 1 | Bharatpur\n",
      "City not found. Skipping...\n",
      "Processing Record 38 of Set 1 | Tegul'det\n",
      "Processing Record 39 of Set 1 | Kursk\n",
      "Processing Record 40 of Set 1 | Calamar\n",
      "Processing Record 41 of Set 1 | Chincha Alta\n",
      "Processing Record 42 of Set 1 | Wahpeton\n",
      "Processing Record 43 of Set 1 | Davila\n",
      "Processing Record 44 of Set 1 | Norden\n",
      "Processing Record 45 of Set 1 | Dăneşti\n",
      "Processing Record 46 of Set 1 | Nambucca Heads\n",
      "Processing Record 47 of Set 1 | Altea\n",
      "Processing Record 48 of Set 1 | Yen Bai\n",
      "Processing Record 49 of Set 1 | Sokol\n",
      "Processing Record 50 of Set 1 | Taksimo\n",
      "City not found. Skipping...\n",
      "Processing Record 2 of Set 1 | Omboué\n",
      "Processing Record 3 of Set 1 | Prainha\n",
      "Processing Record 4 of Set 1 | Boksitogorsk\n",
      "Processing Record 5 of Set 1 | Oranjemund\n",
      "Processing Record 6 of Set 1 | Gizo Government Station\n",
      "City not found. Skipping...\n",
      "Processing Record 7 of Set 1 | Zabaykal'sk\n",
      "City not found. Skipping...\n",
      "Processing Record 8 of Set 1 | Belaya Gora\n",
      "Processing Record 9 of Set 1 | Varhaug\n",
      "Processing Record 10 of Set 1 | Oistins\n",
      "Processing Record 11 of Set 1 | Auki\n",
      "Processing Record 12 of Set 1 | Beringovskiy\n",
      "Processing Record 13 of Set 1 | Talara\n",
      "Processing Record 14 of Set 1 | Lano\n",
      "Processing Record 15 of Set 1 | Zaraza\n",
      "Processing Record 16 of Set 1 | Shenzhen\n",
      "Processing Record 17 of Set 1 | Cockburn Town\n",
      "Processing Record 18 of Set 1 | Jinzhou\n",
      "Processing Record 19 of Set 1 | Sapa\n",
      "City not found. Skipping...\n",
      "Processing Record 20 of Set 1 | Newport\n",
      "Processing Record 21 of Set 1 | Oktyabr'skoye\n",
      "Processing Record 22 of Set 1 | Mackenzie\n",
      "Processing Record 23 of Set 1 | Puerto Escondido\n",
      "Processing Record 24 of Set 1 | Timizart\n",
      "Processing Record 25 of Set 1 | Belyy Yar\n",
      "Processing Record 26 of Set 1 | Kologriv\n",
      "Processing Record 27 of Set 1 | Palu\n",
      "Processing Record 28 of Set 1 | Fuling\n",
      "Processing Record 29 of Set 1 | Khalkhāl\n",
      "Processing Record 30 of Set 1 | Marabu\n",
      "Processing Record 31 of Set 1 | Alofi\n",
      "Processing Record 32 of Set 1 | Imeni Poliny Osipenko\n",
      "Processing Record 33 of Set 1 | Port Macquarie\n",
      "Processing Record 34 of Set 1 | Pontianak\n",
      "Processing Record 35 of Set 1 | Flin Flon\n",
      "Processing Record 36 of Set 1 | Mukhtolovo\n",
      "Processing Record 37 of Set 1 | Maridi\n",
      "Processing Record 38 of Set 1 | Dombarovskiy\n",
      "Processing Record 39 of Set 1 | Rome\n",
      "Processing Record 40 of Set 1 | Mercedes\n",
      "Processing Record 41 of Set 1 | Nacala\n",
      "Processing Record 42 of Set 1 | Mil'kovo\n",
      "Processing Record 43 of Set 1 | La Rioja\n",
      "City not found. Skipping...\n",
      "City not found. Skipping...\n",
      "City not found. Skipping...\n",
      "Processing Record 44 of Set 1 | Sioux Lookout\n",
      "Processing Record 45 of Set 1 | Mossamedes\n",
      "Processing Record 46 of Set 1 | Gondanglegi\n",
      "Processing Record 47 of Set 1 | Kondinskoye\n",
      "Processing Record 48 of Set 1 | Albury\n",
      "Processing Record 49 of Set 1 | Araguaçu\n",
      "Processing Record 50 of Set 1 | Thayetmyo\n",
      "City not found. Skipping...\n",
      "Processing Record 2 of Set 1 | Svetlaya\n",
      "Processing Record 3 of Set 1 | Paphos\n",
      "Processing Record 4 of Set 1 | Salair\n",
      "Processing Record 5 of Set 1 | Sciacca\n",
      "Processing Record 6 of Set 1 | Kautokeino\n",
      "Processing Record 7 of Set 1 | Shīeli\n",
      "Processing Record 8 of Set 1 | Shihezi\n",
      "Processing Record 9 of Set 1 | San Mateo Ixtatán\n",
      "Processing Record 10 of Set 1 | San Andrés\n",
      "Processing Record 11 of Set 1 | Biak\n",
      "Processing Record 12 of Set 1 | Gamba\n"
     ]
    }
   ],
   "source": [
    "city_name = []\n",
    "lat = []\n",
    "lng = []\n",
    "max_temp = []\n",
    "humidity = []\n",
    "cloudiness = []\n",
    "wind_speed = []\n",
    "country= []\n",
    "date = []\n",
    "\n",
    "counter = 0\n",
    "of_set = 1\n",
    "\n",
    "url = \"http://api.openweathermap.org/data/2.5/weather?units=metric&APPID=\" + weather_api_key \n",
    "print(f\"Beginning Data Retrival\")\n",
    "print(f\"-----------------------------\")\n",
    "\n",
    "for city in cities:\n",
    "    query_url = url + \"&q=\" +city\n",
    "    response = requests.get(query_url).json()\n",
    "   \n",
    "    \n",
    "   \n",
    "    \n",
    "    try:\n",
    "        city_name.append(response['name'])\n",
    "        lat.append(response['coord']['lat'])\n",
    "        lng.append(response['coord']['lon'])\n",
    "        max_temp.append(response['main']['temp_max'])\n",
    "        humidity.append(response['main']['humidity'])\n",
    "        cloudiness.append(response['clouds']['all'])\n",
    "        wind_speed.append(response['wind']['speed'])\n",
    "        country.append(response['sys']['country'])\n",
    "        date.append(response['dt'])\n",
    "        \n",
    "        if counter > 49:\n",
    "            counter = 1\n",
    "            of_sets += 1\n",
    "            results = response[\"name\"]\n",
    "        \n",
    "        else:\n",
    "            counter += 1\n",
    "            results = response[\"name\"]\n",
    "        \n",
    "        print(f\"Processing Record {counter} of Set {of_set} | {results}\")\n",
    "        \n",
    "        time.sleep(1)\n",
    "    \n",
    "    except:\n",
    "        print(f\"City not found. Skipping...\")\n",
    "    continue \n",
    "    \n",
    "        \n",
    "    print(f\"------------------------\")\n",
    "    print(f\"Data Retrival Complete\")\n",
    "    print(f\"------------------------\")\n",
    "    "
   ]
  },
  {
   "cell_type": "markdown",
   "metadata": {},
   "source": [
    "### Convert Raw Data to DataFrame\n",
    "* Export the city data into a .csv.\n",
    "* Display the DataFrame"
   ]
  },
  {
   "cell_type": "code",
   "execution_count": 11,
   "metadata": {},
   "outputs": [],
   "source": [
    "raw_df = pd.DataFrame({\"City\":city_name, \"Lat\":lat, \"Lng\":lng,\n",
    "                        \"Max Temp\":max_temp, \"Humidity\":humidity, \"Cloudiness\":cloudiness,\n",
    "                        \"Wind Speed\":wind_speed, \"Country\":country, \"Date\":date})\n",
    "\n",
    "raw_df.head()\n",
    "\n",
    "raw_df.to_csv('output/raw_df.csv')"
   ]
  },
  {
   "cell_type": "code",
   "execution_count": 12,
   "metadata": {},
   "outputs": [
    {
     "data": {
      "text/html": [
       "<div>\n",
       "<style scoped>\n",
       "    .dataframe tbody tr th:only-of-type {\n",
       "        vertical-align: middle;\n",
       "    }\n",
       "\n",
       "    .dataframe tbody tr th {\n",
       "        vertical-align: top;\n",
       "    }\n",
       "\n",
       "    .dataframe thead th {\n",
       "        text-align: right;\n",
       "    }\n",
       "</style>\n",
       "<table border=\"1\" class=\"dataframe\">\n",
       "  <thead>\n",
       "    <tr style=\"text-align: right;\">\n",
       "      <th></th>\n",
       "      <th>Lat</th>\n",
       "      <th>Lng</th>\n",
       "      <th>Max Temp</th>\n",
       "      <th>Humidity</th>\n",
       "      <th>Cloudiness</th>\n",
       "      <th>Wind Speed</th>\n",
       "      <th>Date</th>\n",
       "    </tr>\n",
       "  </thead>\n",
       "  <tbody>\n",
       "    <tr>\n",
       "      <th>count</th>\n",
       "      <td>562.000000</td>\n",
       "      <td>562.000000</td>\n",
       "      <td>562.000000</td>\n",
       "      <td>562.000000</td>\n",
       "      <td>562.000000</td>\n",
       "      <td>562.000000</td>\n",
       "      <td>5.620000e+02</td>\n",
       "    </tr>\n",
       "    <tr>\n",
       "      <th>mean</th>\n",
       "      <td>20.264093</td>\n",
       "      <td>21.546548</td>\n",
       "      <td>14.663594</td>\n",
       "      <td>73.065836</td>\n",
       "      <td>59.640569</td>\n",
       "      <td>3.657224</td>\n",
       "      <td>1.603652e+09</td>\n",
       "    </tr>\n",
       "    <tr>\n",
       "      <th>std</th>\n",
       "      <td>33.907795</td>\n",
       "      <td>92.512016</td>\n",
       "      <td>12.323835</td>\n",
       "      <td>20.534418</td>\n",
       "      <td>39.367354</td>\n",
       "      <td>2.770693</td>\n",
       "      <td>2.348250e+02</td>\n",
       "    </tr>\n",
       "    <tr>\n",
       "      <th>min</th>\n",
       "      <td>-54.800000</td>\n",
       "      <td>-179.170000</td>\n",
       "      <td>-18.570000</td>\n",
       "      <td>8.000000</td>\n",
       "      <td>0.000000</td>\n",
       "      <td>0.090000</td>\n",
       "      <td>1.603652e+09</td>\n",
       "    </tr>\n",
       "    <tr>\n",
       "      <th>25%</th>\n",
       "      <td>-7.255000</td>\n",
       "      <td>-59.620000</td>\n",
       "      <td>5.140000</td>\n",
       "      <td>64.000000</td>\n",
       "      <td>20.000000</td>\n",
       "      <td>1.682500</td>\n",
       "      <td>1.603652e+09</td>\n",
       "    </tr>\n",
       "    <tr>\n",
       "      <th>50%</th>\n",
       "      <td>24.635000</td>\n",
       "      <td>25.035000</td>\n",
       "      <td>17.000000</td>\n",
       "      <td>77.000000</td>\n",
       "      <td>75.000000</td>\n",
       "      <td>2.985000</td>\n",
       "      <td>1.603652e+09</td>\n",
       "    </tr>\n",
       "    <tr>\n",
       "      <th>75%</th>\n",
       "      <td>50.282500</td>\n",
       "      <td>106.775000</td>\n",
       "      <td>24.822500</td>\n",
       "      <td>89.000000</td>\n",
       "      <td>100.000000</td>\n",
       "      <td>5.075000</td>\n",
       "      <td>1.603652e+09</td>\n",
       "    </tr>\n",
       "    <tr>\n",
       "      <th>max</th>\n",
       "      <td>78.220000</td>\n",
       "      <td>179.320000</td>\n",
       "      <td>42.150000</td>\n",
       "      <td>100.000000</td>\n",
       "      <td>100.000000</td>\n",
       "      <td>18.000000</td>\n",
       "      <td>1.603653e+09</td>\n",
       "    </tr>\n",
       "  </tbody>\n",
       "</table>\n",
       "</div>"
      ],
      "text/plain": [
       "              Lat         Lng    Max Temp    Humidity  Cloudiness  Wind Speed  \\\n",
       "count  562.000000  562.000000  562.000000  562.000000  562.000000  562.000000   \n",
       "mean    20.264093   21.546548   14.663594   73.065836   59.640569    3.657224   \n",
       "std     33.907795   92.512016   12.323835   20.534418   39.367354    2.770693   \n",
       "min    -54.800000 -179.170000  -18.570000    8.000000    0.000000    0.090000   \n",
       "25%     -7.255000  -59.620000    5.140000   64.000000   20.000000    1.682500   \n",
       "50%     24.635000   25.035000   17.000000   77.000000   75.000000    2.985000   \n",
       "75%     50.282500  106.775000   24.822500   89.000000  100.000000    5.075000   \n",
       "max     78.220000  179.320000   42.150000  100.000000  100.000000   18.000000   \n",
       "\n",
       "               Date  \n",
       "count  5.620000e+02  \n",
       "mean   1.603652e+09  \n",
       "std    2.348250e+02  \n",
       "min    1.603652e+09  \n",
       "25%    1.603652e+09  \n",
       "50%    1.603652e+09  \n",
       "75%    1.603652e+09  \n",
       "max    1.603653e+09  "
      ]
     },
     "execution_count": 12,
     "metadata": {},
     "output_type": "execute_result"
    }
   ],
   "source": [
    "raw_df.describe()"
   ]
  },
  {
   "cell_type": "markdown",
   "metadata": {},
   "source": [
    "## Inspect the data and remove the cities where the humidity > 100%.\n",
    "----\n",
    "Skip this step if there are no cities that have humidity > 100%. "
   ]
  },
  {
   "cell_type": "code",
   "execution_count": 18,
   "metadata": {},
   "outputs": [
    {
     "data": {
      "text/html": [
       "<div>\n",
       "<style scoped>\n",
       "    .dataframe tbody tr th:only-of-type {\n",
       "        vertical-align: middle;\n",
       "    }\n",
       "\n",
       "    .dataframe tbody tr th {\n",
       "        vertical-align: top;\n",
       "    }\n",
       "\n",
       "    .dataframe thead th {\n",
       "        text-align: right;\n",
       "    }\n",
       "</style>\n",
       "<table border=\"1\" class=\"dataframe\">\n",
       "  <thead>\n",
       "    <tr style=\"text-align: right;\">\n",
       "      <th></th>\n",
       "      <th>Unnamed: 0</th>\n",
       "      <th>City</th>\n",
       "      <th>Lat</th>\n",
       "      <th>Lng</th>\n",
       "      <th>Max Temp</th>\n",
       "      <th>Humidity</th>\n",
       "      <th>Cloudiness</th>\n",
       "      <th>Wind Speed</th>\n",
       "      <th>Country</th>\n",
       "      <th>Date</th>\n",
       "    </tr>\n",
       "  </thead>\n",
       "  <tbody>\n",
       "  </tbody>\n",
       "</table>\n",
       "</div>"
      ],
      "text/plain": [
       "Empty DataFrame\n",
       "Columns: [Unnamed: 0, City, Lat, Lng, Max Temp, Humidity, Cloudiness, Wind Speed, Country, Date]\n",
       "Index: []"
      ]
     },
     "execution_count": 18,
     "metadata": {},
     "output_type": "execute_result"
    }
   ],
   "source": [
    "humidity_over_100 = pd.read_csv('output/raw_df.csv')\n",
    "humidity_over_100.head()\n",
    "humidity_over_100 = humidity_over_100.loc[humidity_over_100['Humidity']>100]\n",
    "humidity_over_100.head()"
   ]
  },
  {
   "cell_type": "code",
   "execution_count": 17,
   "metadata": {},
   "outputs": [
    {
     "data": {
      "text/plain": [
       "Int64Index([], dtype='int64')"
      ]
     },
     "execution_count": 17,
     "metadata": {},
     "output_type": "execute_result"
    }
   ],
   "source": [
    "#  Get the indices of cities that have humidity over 100%.\n",
    "# There are no cities with humidity over 100"
   ]
  },
  {
   "cell_type": "code",
   "execution_count": 19,
   "metadata": {},
   "outputs": [
    {
     "data": {
      "text/html": [
       "<div>\n",
       "<style scoped>\n",
       "    .dataframe tbody tr th:only-of-type {\n",
       "        vertical-align: middle;\n",
       "    }\n",
       "\n",
       "    .dataframe tbody tr th {\n",
       "        vertical-align: top;\n",
       "    }\n",
       "\n",
       "    .dataframe thead th {\n",
       "        text-align: right;\n",
       "    }\n",
       "</style>\n",
       "<table border=\"1\" class=\"dataframe\">\n",
       "  <thead>\n",
       "    <tr style=\"text-align: right;\">\n",
       "      <th></th>\n",
       "      <th>City</th>\n",
       "      <th>Lat</th>\n",
       "      <th>Lng</th>\n",
       "      <th>Max Temp</th>\n",
       "      <th>Humidity</th>\n",
       "      <th>Cloudiness</th>\n",
       "      <th>Wind Speed</th>\n",
       "      <th>Country</th>\n",
       "      <th>Date</th>\n",
       "    </tr>\n",
       "  </thead>\n",
       "  <tbody>\n",
       "    <tr>\n",
       "      <td>0</td>\n",
       "      <td>butaritari</td>\n",
       "      <td>3.07</td>\n",
       "      <td>172.79</td>\n",
       "      <td>83.32</td>\n",
       "      <td>74</td>\n",
       "      <td>84</td>\n",
       "      <td>10.42</td>\n",
       "      <td>KI</td>\n",
       "      <td>1593605283</td>\n",
       "    </tr>\n",
       "    <tr>\n",
       "      <td>1</td>\n",
       "      <td>yerbogachen</td>\n",
       "      <td>61.28</td>\n",
       "      <td>108.01</td>\n",
       "      <td>79.52</td>\n",
       "      <td>58</td>\n",
       "      <td>20</td>\n",
       "      <td>7.70</td>\n",
       "      <td>RU</td>\n",
       "      <td>1593605121</td>\n",
       "    </tr>\n",
       "    <tr>\n",
       "      <td>2</td>\n",
       "      <td>cape town</td>\n",
       "      <td>-33.93</td>\n",
       "      <td>18.42</td>\n",
       "      <td>73.00</td>\n",
       "      <td>77</td>\n",
       "      <td>27</td>\n",
       "      <td>4.70</td>\n",
       "      <td>ZA</td>\n",
       "      <td>1593605039</td>\n",
       "    </tr>\n",
       "    <tr>\n",
       "      <td>3</td>\n",
       "      <td>touba</td>\n",
       "      <td>8.28</td>\n",
       "      <td>-7.68</td>\n",
       "      <td>79.97</td>\n",
       "      <td>75</td>\n",
       "      <td>82</td>\n",
       "      <td>3.58</td>\n",
       "      <td>CI</td>\n",
       "      <td>1593605284</td>\n",
       "    </tr>\n",
       "    <tr>\n",
       "      <td>4</td>\n",
       "      <td>jamestown</td>\n",
       "      <td>42.10</td>\n",
       "      <td>-79.24</td>\n",
       "      <td>64.00</td>\n",
       "      <td>88</td>\n",
       "      <td>1</td>\n",
       "      <td>6.93</td>\n",
       "      <td>US</td>\n",
       "      <td>1593605284</td>\n",
       "    </tr>\n",
       "  </tbody>\n",
       "</table>\n",
       "</div>"
      ],
      "text/plain": [
       "          City    Lat     Lng  Max Temp  Humidity  Cloudiness  Wind Speed  \\\n",
       "0   butaritari   3.07  172.79     83.32        74          84       10.42   \n",
       "1  yerbogachen  61.28  108.01     79.52        58          20        7.70   \n",
       "2    cape town -33.93   18.42     73.00        77          27        4.70   \n",
       "3        touba   8.28   -7.68     79.97        75          82        3.58   \n",
       "4    jamestown  42.10  -79.24     64.00        88           1        6.93   \n",
       "\n",
       "  Country        Date  \n",
       "0      KI  1593605283  \n",
       "1      RU  1593605121  \n",
       "2      ZA  1593605039  \n",
       "3      CI  1593605284  \n",
       "4      US  1593605284  "
      ]
     },
     "execution_count": 19,
     "metadata": {},
     "output_type": "execute_result"
    }
   ],
   "source": [
    "# Make a new DataFrame equal to the city data to drop all humidity outliers by index.\n",
    "# Passing \"inplace=False\" will make a copy of the city_data DataFrame, which we call \"clean_city_data\".\n",
    "#Skip this step"
   ]
  },
  {
   "cell_type": "code",
   "execution_count": null,
   "metadata": {},
   "outputs": [],
   "source": [
    "\n"
   ]
  },
  {
   "cell_type": "markdown",
   "metadata": {},
   "source": [
    "## Plotting the Data\n",
    "* Use proper labeling of the plots using plot titles (including date of analysis) and axes labels.\n",
    "* Save the plotted figures as .pngs."
   ]
  },
  {
   "cell_type": "markdown",
   "metadata": {},
   "source": [
    "## Latitude vs. Temperature Plot"
   ]
  },
  {
   "cell_type": "code",
   "execution_count": 31,
   "metadata": {
    "scrolled": true
   },
   "outputs": [
    {
     "name": "stdout",
     "output_type": "stream",
     "text": [
      "10/25/20\n"
     ]
    }
   ],
   "source": [
    "#Create the date for analysis\n",
    "date_time = time.strptime(\"10/20/20\", \"%m/%d/%y\")\n",
    "time_value = time.mktime(date_time)\n",
    "#print(time_value)\n",
    "\n",
    "display_date = time.gmtime(raw_df['Date'][0])\n",
    "#print(time.strftime(\"%m/%d/%Y %H:%M:%S\", display_date))\n",
    "\n",
    "date_time = time.strftime(\"%x\",display_date)\n",
    "print(date_time)\n"
   ]
  },
  {
   "cell_type": "code",
   "execution_count": 33,
   "metadata": {},
   "outputs": [
    {
     "data": {
      "image/png": "[encoded data removed]",
      "text/plain": [
       "<Figure size 432x288 with 1 Axes>"
      ]
     },
     "metadata": {
      "needs_background": "light"
     },
     "output_type": "display_data"
    },
    {
     "data": {
      "text/plain": [
       "<Figure size 432x288 with 0 Axes>"
      ]
     },
     "metadata": {},
     "output_type": "display_data"
    }
   ],
   "source": [
    "plt.title(f\"Latitude vs. Temperature ({date_time})\")\n",
    "x_axis = raw_df[\"Lat\"]\n",
    "y_axis = raw_df[\"Max Temp\"]\n",
    "plt.scatter(x_axis,y_axis, alpha = 1, marker = 'o', facecolors = 'blue', edgecolors ='black')\n",
    "plt.xlabel(\"Latitude\")\n",
    "plt.ylabel(\"Max Temperature (fahrenheit)\")\n",
    "plt.grid(True)\n",
    "plt.show()\n",
    "\n",
    "plt.savefig(\"output/lat_vs_temp.png\")\n"
   ]
  },
  {
   "cell_type": "markdown",
   "metadata": {},
   "source": [
    "## Latitude vs. Humidity Plot"
   ]
  },
  {
   "cell_type": "code",
   "execution_count": 35,
   "metadata": {},
   "outputs": [
    {
     "data": {
      "image/png": "[encoded data removed]",
      "text/plain": [
       "<Figure size 432x288 with 1 Axes>"
      ]
     },
     "metadata": {
      "needs_background": "light"
     },
     "output_type": "display_data"
    },
    {
     "data": {
      "text/plain": [
       "<Figure size 432x288 with 0 Axes>"
      ]
     },
     "metadata": {},
     "output_type": "display_data"
    }
   ],
   "source": [
    "plt.title(f\"Latitude vs. Humidity ({date_time})\")\n",
    "x_axis = raw_df[\"Lat\"]\n",
    "y_axis = raw_df[\"Humidity\"]\n",
    "plt.scatter(x_axis,y_axis, alpha = 1, marker = 'o', facecolors = 'blue', edgecolors ='black')\n",
    "plt.xlabel(\"Latitude\")\n",
    "plt.ylabel(\"Humidity (%)\")\n",
    "plt.grid(True)\n",
    "plt.show()\n",
    "\n",
    "plt.savefig(\"output/lat_vs_humidity.png\")"
   ]
  },
  {
   "cell_type": "markdown",
   "metadata": {},
   "source": [
    "## Latitude vs. Cloudiness Plot"
   ]
  },
  {
   "cell_type": "code",
   "execution_count": 37,
   "metadata": {},
   "outputs": [
    {
     "data": {
      "image/png": "[encoded data removed]",
      "text/plain": [
       "<Figure size 432x288 with 1 Axes>"
      ]
     },
     "metadata": {
      "needs_background": "light"
     },
     "output_type": "display_data"
    },
    {
     "data": {
      "text/plain": [
       "<Figure size 432x288 with 0 Axes>"
      ]
     },
     "metadata": {},
     "output_type": "display_data"
    }
   ],
   "source": [
    "plt.title(f\"Latitude vs. Cloudiness ({date_time})\")\n",
    "x_axis = raw_df[\"Lat\"]\n",
    "y_axis = raw_df[\"Cloudiness\"]\n",
    "plt.scatter(x_axis,y_axis, alpha = 1, marker = 'o', facecolors = 'blue', edgecolors ='black')\n",
    "plt.xlabel(\"Latitude\")\n",
    "plt.ylabel(\"Cloudiness (%)\")\n",
    "plt.grid(True)\n",
    "plt.show()\n",
    "\n",
    "plt.savefig(\"output/lat_vs_cloudiness.png\")"
   ]
  },
  {
   "cell_type": "markdown",
   "metadata": {},
   "source": [
    "## Latitude vs. Wind Speed Plot"
   ]
  },
  {
   "cell_type": "code",
   "execution_count": 39,
   "metadata": {},
   "outputs": [
    {
     "data": {
      "image/png": "[encoded data removed]",
      "text/plain": [
       "<Figure size 432x288 with 1 Axes>"
      ]
     },
     "metadata": {
      "needs_background": "light"
     },
     "output_type": "display_data"
    },
    {
     "data": {
      "text/plain": [
       "<Figure size 432x288 with 0 Axes>"
      ]
     },
     "metadata": {},
     "output_type": "display_data"
    }
   ],
   "source": [
    "plt.title(f\"Latitude vs. Wind Speed ({date_time})\")\n",
    "x_axis = raw_df[\"Lat\"]\n",
    "y_axis = raw_df[\"Wind Speed\"]\n",
    "plt.scatter(x_axis,y_axis, alpha = 1, marker = 'o', facecolors = 'blue', edgecolors ='black')\n",
    "plt.xlabel(\"Latitude\")\n",
    "plt.ylabel(\"Wind Speed (mph)\")\n",
    "plt.grid(True)\n",
    "plt.show()\n",
    "\n",
    "plt.savefig(\"output/lat_vs_wind_speed.png\")"
   ]
  },
  {
   "cell_type": "markdown",
   "metadata": {},
   "source": [
    "## Linear Regression"
   ]
  },
  {
   "cell_type": "code",
   "execution_count": 46,
   "metadata": {},
   "outputs": [
    {
     "data": {
      "text/plain": [
       "City          186\n",
       "Lat           186\n",
       "Lng           186\n",
       "Max Temp      186\n",
       "Humidity      186\n",
       "Cloudiness    186\n",
       "Wind Speed    186\n",
       "Country       186\n",
       "Date          186\n",
       "dtype: int64"
      ]
     },
     "execution_count": 46,
     "metadata": {},
     "output_type": "execute_result"
    }
   ],
   "source": [
    "north_hem = raw_df.loc[raw_df[\"Lat\"]>=0]\n",
    "#north_hem.head()\n",
    "south_hem = raw_df.loc[raw_df[\"Lat\"]<=0]\n",
    "#south_hem.head()\n"
   ]
  },
  {
   "cell_type": "markdown",
   "metadata": {},
   "source": [
    "####  Northern Hemisphere - Max Temp vs. Latitude Linear Regression"
   ]
  },
  {
   "cell_type": "code",
   "execution_count": 56,
   "metadata": {},
   "outputs": [
    {
     "data": {
      "image/png": "[encoded data removed]",
      "text/plain": [
       "<Figure size 432x288 with 1 Axes>"
      ]
     },
     "metadata": {
      "needs_background": "light"
     },
     "output_type": "display_data"
    },
    {
     "name": "stdout",
     "output_type": "stream",
     "text": [
      "The r-value is:0.764602329168407\n"
     ]
    },
    {
     "data": {
      "text/plain": [
       "<Figure size 432x288 with 0 Axes>"
      ]
     },
     "metadata": {},
     "output_type": "display_data"
    }
   ],
   "source": [
    "x_axis = north_hem[\"Lat\"]\n",
    "y_axis = north_hem[\"Max Temp\"]\n",
    "\n",
    "\n",
    "(slope, intercept, rvalue, pvalue, stderr) = linregress(x_axis, y_axis)\n",
    "regress_values = x_axis * slope + intercept\n",
    "line_eq = \"y = \" + str(round(slope,2)) + \"x + \" + str(round(intercept,2))\n",
    "plt.scatter(x_axis,y_axis)\n",
    "plt.plot(x_axis,regress_values,\"r-\")\n",
    "plt.annotate(line_eq,(0,-15),fontsize=15,color=\"red\")\n",
    "plt.xlabel('Latitude')\n",
    "plt.ylabel('Max Temperature')\n",
    "plt.show()\n",
    "\n",
    "print(f\"The r-value is:{rvalue**2}\")\n",
    "\n",
    "plt.savefig(\"output/north_lat_vs_temp.png\")\n"
   ]
  },
  {
   "cell_type": "markdown",
   "metadata": {},
   "source": [
    "####  Southern Hemisphere - Max Temp vs. Latitude Linear Regression"
   ]
  },
  {
   "cell_type": "code",
   "execution_count": 57,
   "metadata": {},
   "outputs": [
    {
     "data": {
      "image/png": "[encoded data removed]",
      "text/plain": [
       "<Figure size 432x288 with 1 Axes>"
      ]
     },
     "metadata": {
      "needs_background": "light"
     },
     "output_type": "display_data"
    },
    {
     "name": "stdout",
     "output_type": "stream",
     "text": [
      "The r-value is:0.5243652031717678\n"
     ]
    },
    {
     "data": {
      "text/plain": [
       "<Figure size 432x288 with 0 Axes>"
      ]
     },
     "metadata": {},
     "output_type": "display_data"
    }
   ],
   "source": [
    "x_axis = south_hem[\"Lat\"]\n",
    "y_axis = south_hem[\"Max Temp\"]\n",
    "\n",
    "\n",
    "(slope, intercept, rvalue, pvalue, stderr) = linregress(x_axis, y_axis)\n",
    "regress_values = x_axis * slope + intercept\n",
    "line_eq = \"y = \" + str(round(slope,2)) + \"x + \" + str(round(intercept,2))\n",
    "plt.scatter(x_axis,y_axis)\n",
    "plt.plot(x_axis,regress_values,\"r-\")\n",
    "plt.annotate(line_eq,(-50,40),fontsize=15,color=\"red\")\n",
    "plt.xlabel('Latitude')\n",
    "plt.ylabel('Max Temperature')\n",
    "plt.show()\n",
    "\n",
    "print(f\"The r-value is:{rvalue**2}\")\n",
    "\n",
    "plt.savefig(\"output/south_lat_vs_temp.png\")"
   ]
  },
  {
   "cell_type": "markdown",
   "metadata": {},
   "source": [
    "####  Northern Hemisphere - Humidity (%) vs. Latitude Linear Regression"
   ]
  },
  {
   "cell_type": "code",
   "execution_count": 60,
   "metadata": {},
   "outputs": [
    {
     "data": {
      "image/png": "[encoded data removed]",
      "text/plain": [
       "<Figure size 432x288 with 1 Axes>"
      ]
     },
     "metadata": {
      "needs_background": "light"
     },
     "output_type": "display_data"
    },
    {
     "name": "stdout",
     "output_type": "stream",
     "text": [
      "The r-value is:0.11626828637134849\n"
     ]
    },
    {
     "data": {
      "text/plain": [
       "<Figure size 432x288 with 0 Axes>"
      ]
     },
     "metadata": {},
     "output_type": "display_data"
    }
   ],
   "source": [
    "x_axis = north_hem[\"Lat\"]\n",
    "y_axis = north_hem[\"Humidity\"]\n",
    "\n",
    "\n",
    "(slope, intercept, rvalue, pvalue, stderr) = linregress(x_axis, y_axis)\n",
    "regress_values = x_axis * slope + intercept\n",
    "line_eq = \"y = \" + str(round(slope,2)) + \"x + \" + str(round(intercept,2))\n",
    "plt.scatter(x_axis,y_axis)\n",
    "plt.plot(x_axis,regress_values,\"r-\")\n",
    "plt.annotate(line_eq,(40,20),fontsize=15,color=\"red\")\n",
    "plt.xlabel('Latitude')\n",
    "plt.ylabel('Humidity')\n",
    "plt.show()\n",
    "\n",
    "print(f\"The r-value is:{rvalue**2}\")\n",
    "\n",
    "plt.savefig(\"output/north_lat_vs_humidity.png\")"
   ]
  },
  {
   "cell_type": "markdown",
   "metadata": {},
   "source": [
    "####  Southern Hemisphere - Humidity (%) vs. Latitude Linear Regression"
   ]
  },
  {
   "cell_type": "code",
   "execution_count": 62,
   "metadata": {},
   "outputs": [
    {
     "data": {
      "image/png": "[encoded data removed]",
      "text/plain": [
       "<Figure size 432x288 with 1 Axes>"
      ]
     },
     "metadata": {
      "needs_background": "light"
     },
     "output_type": "display_data"
    },
    {
     "name": "stdout",
     "output_type": "stream",
     "text": [
      "The r-value is:0.0015053920854581969\n"
     ]
    }
   ],
   "source": [
    "x_axis = south_hem[\"Lat\"]\n",
    "y_axis = south_hem[\"Humidity\"]\n",
    "\n",
    "\n",
    "(slope, intercept, rvalue, pvalue, stderr) = linregress(x_axis, y_axis)\n",
    "regress_values = x_axis * slope + intercept\n",
    "line_eq = \"y = \" + str(round(slope,2)) + \"x + \" + str(round(intercept,2))\n",
    "plt.scatter(x_axis,y_axis)\n",
    "plt.plot(x_axis,regress_values,\"r-\")\n",
    "plt.annotate(line_eq,(-50,30),fontsize=15,color=\"red\")\n",
    "plt.xlabel('Latitude')\n",
    "plt.ylabel('Humidity')\n",
    "plt.show()\n",
    "\n",
    "print(f\"The r-value is:{rvalue**2}\")\n",
    "\n",
    "plt.savefig(\"output/south_lat_vs_humidity.png\")"
   ]
  },
  {
   "cell_type": "markdown",
   "metadata": {},
   "source": [
    "####  Northern Hemisphere - Cloudiness (%) vs. Latitude Linear Regression"
   ]
  },
  {
   "cell_type": "code",
   "execution_count": 29,
   "metadata": {},
   "outputs": [
    {
     "name": "stdout",
     "output_type": "stream",
     "text": [
      "The r-value is: 0.0020898727664228514\n"
     ]
    },
    {
     "data": {
      "image/png": "[encoded data removed]",
      "text/plain": [
       "<Figure size 432x288 with 1 Axes>"
      ]
     },
     "metadata": {
      "needs_background": "light"
     },
     "output_type": "display_data"
    }
   ],
   "source": []
  },
  {
   "cell_type": "markdown",
   "metadata": {},
   "source": [
    "####  Southern Hemisphere - Cloudiness (%) vs. Latitude Linear Regression"
   ]
  },
  {
   "cell_type": "code",
   "execution_count": 30,
   "metadata": {},
   "outputs": [
    {
     "name": "stdout",
     "output_type": "stream",
     "text": [
      "The r-value is: 0.0035263772085582894\n"
     ]
    },
    {
     "data": {
      "image/png": "[encoded data removed]",
      "text/plain": [
       "<Figure size 432x288 with 1 Axes>"
      ]
     },
     "metadata": {
      "needs_background": "light"
     },
     "output_type": "display_data"
    }
   ],
   "source": []
  },
  {
   "cell_type": "markdown",
   "metadata": {},
   "source": [
    "####  Northern Hemisphere - Wind Speed (mph) vs. Latitude Linear Regression"
   ]
  },
  {
   "cell_type": "code",
   "execution_count": 31,
   "metadata": {},
   "outputs": [
    {
     "name": "stdout",
     "output_type": "stream",
     "text": [
      "The r-value is: 0.04019723576144484\n"
     ]
    },
    {
     "data": {
      "image/png": "[encoded data removed]",
      "text/plain": [
       "<Figure size 432x288 with 1 Axes>"
      ]
     },
     "metadata": {
      "needs_background": "light"
     },
     "output_type": "display_data"
    }
   ],
   "source": []
  },
  {
   "cell_type": "markdown",
   "metadata": {},
   "source": [
    "####  Southern Hemisphere - Wind Speed (mph) vs. Latitude Linear Regression"
   ]
  },
  {
   "cell_type": "code",
   "execution_count": 32,
   "metadata": {},
   "outputs": [
    {
     "name": "stdout",
     "output_type": "stream",
     "text": [
      "The r-value is: 0.017128274759839232\n"
     ]
    },
    {
     "data": {
      "image/png": "[encoded data removed]",
      "text/plain": [
       "<Figure size 432x288 with 1 Axes>"
      ]
     },
     "metadata": {
      "needs_background": "light"
     },
     "output_type": "display_data"
    }
   ],
   "source": []
  },
  {
   "cell_type": "code",
   "execution_count": null,
   "metadata": {},
   "outputs": [],
   "source": []
  }
 ],
 "metadata": {
  "anaconda-cloud": {},
  "kernel_info": {
   "name": "python3"
  },
  "kernelspec": {
   "display_name": "Python [conda env:PythonData] *",
   "language": "python",
   "name": "conda-env-PythonData-py"
  },
  "language_info": {
   "codemirror_mode": {
    "name": "ipython",
    "version": 3
   },
   "file_extension": ".py",
   "mimetype": "text/x-python",
   "name": "python",
   "nbconvert_exporter": "python",
   "pygments_lexer": "ipython3",
   "version": "3.8.5"
  },
  "latex_envs": {
   "LaTeX_envs_menu_present": true,
   "autoclose": false,
   "autocomplete": true,
   "bibliofile": "biblio.bib",
   "cite_by": "apalike",
   "current_citInitial": 1,
   "eqLabelWithNumbers": true,
   "eqNumInitial": 1,
   "hotkeys": {
    "equation": "Ctrl-E",
    "itemize": "Ctrl-I"
   },
   "labels_anchors": false,
   "latex_user_defs": false,
   "report_style_numbering": false,
   "user_envs_cfg": false
  },
  "nteract": {
   "version": "0.12.3"
  }
 },
 "nbformat": 4,
 "nbformat_minor": 2
}
