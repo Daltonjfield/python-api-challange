{
 "cells": [
  {
   "cell_type": "markdown",
   "metadata": {},
   "source": [
    "# VacationPy\n",
    "----\n",
    "\n",
    "#### Note\n",
    "* Keep an eye on your API usage. Use https://developers.google.com/maps/reporting/gmp-reporting as reference for how to monitor your usage and billing.\n",
    "\n",
    "* Instructions have been included for each segment. You do not have to follow them exactly, but they are included to help you think through the steps."
   ]
  },
  {
   "cell_type": "code",
   "execution_count": 1,
   "metadata": {},
   "outputs": [],
   "source": [
    "# Dependencies and Setup\n",
    "import matplotlib.pyplot as plt\n",
    "import pandas as pd\n",
    "import numpy as np\n",
    "import requests\n",
    "import gmaps\n",
    "import os\n",
    "import json\n",
    "\n",
    "# Import API key\n",
    "from api_keys import g_key"
   ]
  },
  {
   "cell_type": "markdown",
   "metadata": {},
   "source": [
    "### Store Part I results into DataFrame\n",
    "* Load the csv exported in Part I to a DataFrame"
   ]
  },
  {
   "cell_type": "code",
   "execution_count": 2,
   "metadata": {},
   "outputs": [
    {
     "data": {
      "text/html": [
       "<div>\n",
       "<style scoped>\n",
       "    .dataframe tbody tr th:only-of-type {\n",
       "        vertical-align: middle;\n",
       "    }\n",
       "\n",
       "    .dataframe tbody tr th {\n",
       "        vertical-align: top;\n",
       "    }\n",
       "\n",
       "    .dataframe thead th {\n",
       "        text-align: right;\n",
       "    }\n",
       "</style>\n",
       "<table border=\"1\" class=\"dataframe\">\n",
       "  <thead>\n",
       "    <tr style=\"text-align: right;\">\n",
       "      <th></th>\n",
       "      <th>City</th>\n",
       "      <th>Lat</th>\n",
       "      <th>Lng</th>\n",
       "      <th>Max Temp</th>\n",
       "      <th>Humidity</th>\n",
       "      <th>Cloudiness</th>\n",
       "      <th>Wind Speed</th>\n",
       "      <th>Country</th>\n",
       "      <th>Date</th>\n",
       "    </tr>\n",
       "  </thead>\n",
       "  <tbody>\n",
       "    <tr>\n",
       "      <th>0</th>\n",
       "      <td>Pangnirtung</td>\n",
       "      <td>66.15</td>\n",
       "      <td>-65.71</td>\n",
       "      <td>-8.00</td>\n",
       "      <td>72</td>\n",
       "      <td>40</td>\n",
       "      <td>1.50</td>\n",
       "      <td>CA</td>\n",
       "      <td>1603651903</td>\n",
       "    </tr>\n",
       "    <tr>\n",
       "      <th>1</th>\n",
       "      <td>Santa Fe</td>\n",
       "      <td>-31.63</td>\n",
       "      <td>-60.70</td>\n",
       "      <td>25.56</td>\n",
       "      <td>77</td>\n",
       "      <td>8</td>\n",
       "      <td>1.34</td>\n",
       "      <td>AR</td>\n",
       "      <td>1603651904</td>\n",
       "    </tr>\n",
       "    <tr>\n",
       "      <th>2</th>\n",
       "      <td>Sitka</td>\n",
       "      <td>57.05</td>\n",
       "      <td>-135.33</td>\n",
       "      <td>4.00</td>\n",
       "      <td>80</td>\n",
       "      <td>90</td>\n",
       "      <td>3.10</td>\n",
       "      <td>US</td>\n",
       "      <td>1603651905</td>\n",
       "    </tr>\n",
       "    <tr>\n",
       "      <th>3</th>\n",
       "      <td>Qaanaaq</td>\n",
       "      <td>77.48</td>\n",
       "      <td>-69.36</td>\n",
       "      <td>-10.80</td>\n",
       "      <td>80</td>\n",
       "      <td>100</td>\n",
       "      <td>5.56</td>\n",
       "      <td>GL</td>\n",
       "      <td>1603651893</td>\n",
       "    </tr>\n",
       "    <tr>\n",
       "      <th>4</th>\n",
       "      <td>Iquitos</td>\n",
       "      <td>-3.75</td>\n",
       "      <td>-73.25</td>\n",
       "      <td>35.00</td>\n",
       "      <td>44</td>\n",
       "      <td>75</td>\n",
       "      <td>4.10</td>\n",
       "      <td>PE</td>\n",
       "      <td>1603651908</td>\n",
       "    </tr>\n",
       "  </tbody>\n",
       "</table>\n",
       "</div>"
      ],
      "text/plain": [
       "          City    Lat     Lng  Max Temp  Humidity  Cloudiness  Wind Speed  \\\n",
       "0  Pangnirtung  66.15  -65.71     -8.00        72          40        1.50   \n",
       "1     Santa Fe -31.63  -60.70     25.56        77           8        1.34   \n",
       "2        Sitka  57.05 -135.33      4.00        80          90        3.10   \n",
       "3      Qaanaaq  77.48  -69.36    -10.80        80         100        5.56   \n",
       "4      Iquitos  -3.75  -73.25     35.00        44          75        4.10   \n",
       "\n",
       "  Country        Date  \n",
       "0      CA  1603651903  \n",
       "1      AR  1603651904  \n",
       "2      US  1603651905  \n",
       "3      GL  1603651893  \n",
       "4      PE  1603651908  "
      ]
     },
     "execution_count": 2,
     "metadata": {},
     "output_type": "execute_result"
    }
   ],
   "source": [
    "raw_df = pd.read_csv('../WeatherPy/Output/raw_df.csv', index_col = 0)\n",
    "raw_df.head()\n",
    "\n"
   ]
  },
  {
   "cell_type": "markdown",
   "metadata": {},
   "source": [
    "### Humidity Heatmap\n",
    "* Configure gmaps.\n",
    "* Use the Lat and Lng as locations and Humidity as the weight.\n",
    "* Add Heatmap layer to map."
   ]
  },
  {
   "cell_type": "code",
   "execution_count": 3,
   "metadata": {},
   "outputs": [],
   "source": [
    "#Configure gmaps\n",
    "gmaps.configure(api_key=g_key)\n"
   ]
  },
  {
   "cell_type": "code",
   "execution_count": 4,
   "metadata": {},
   "outputs": [
    {
     "data": {
      "text/html": [
       "<div>\n",
       "<style scoped>\n",
       "    .dataframe tbody tr th:only-of-type {\n",
       "        vertical-align: middle;\n",
       "    }\n",
       "\n",
       "    .dataframe tbody tr th {\n",
       "        vertical-align: top;\n",
       "    }\n",
       "\n",
       "    .dataframe thead th {\n",
       "        text-align: right;\n",
       "    }\n",
       "</style>\n",
       "<table border=\"1\" class=\"dataframe\">\n",
       "  <thead>\n",
       "    <tr style=\"text-align: right;\">\n",
       "      <th></th>\n",
       "      <th>Lat</th>\n",
       "      <th>Lng</th>\n",
       "    </tr>\n",
       "  </thead>\n",
       "  <tbody>\n",
       "    <tr>\n",
       "      <th>0</th>\n",
       "      <td>66.15</td>\n",
       "      <td>-65.71</td>\n",
       "    </tr>\n",
       "    <tr>\n",
       "      <th>1</th>\n",
       "      <td>-31.63</td>\n",
       "      <td>-60.70</td>\n",
       "    </tr>\n",
       "    <tr>\n",
       "      <th>2</th>\n",
       "      <td>57.05</td>\n",
       "      <td>-135.33</td>\n",
       "    </tr>\n",
       "    <tr>\n",
       "      <th>3</th>\n",
       "      <td>77.48</td>\n",
       "      <td>-69.36</td>\n",
       "    </tr>\n",
       "    <tr>\n",
       "      <th>4</th>\n",
       "      <td>-3.75</td>\n",
       "      <td>-73.25</td>\n",
       "    </tr>\n",
       "  </tbody>\n",
       "</table>\n",
       "</div>"
      ],
      "text/plain": [
       "     Lat     Lng\n",
       "0  66.15  -65.71\n",
       "1 -31.63  -60.70\n",
       "2  57.05 -135.33\n",
       "3  77.48  -69.36\n",
       "4  -3.75  -73.25"
      ]
     },
     "execution_count": 4,
     "metadata": {},
     "output_type": "execute_result"
    }
   ],
   "source": [
    "#Use Lat and Lng as locaiton and Humidity as the weight\n",
    "#raw_df.info()\n",
    "humidity = raw_df[\"Humidity\"].astype(float)\n",
    "humidity.head()\n",
    "\n",
    "locations= raw_df[[\"Lat\",\"Lng\"]]\n",
    "locations.head()\n",
    "\n"
   ]
  },
  {
   "cell_type": "code",
   "execution_count": 5,
   "metadata": {
    "scrolled": true
   },
   "outputs": [
    {
     "data": {
      "application/vnd.jupyter.widget-view+json": {
       "model_id": "c769c789e1fa41a098545ccd9b74450c",
       "version_major": 2,
       "version_minor": 0
      },
      "text/plain": [
       "Figure(layout=FigureLayout(height='420px'))"
      ]
     },
     "metadata": {},
     "output_type": "display_data"
    }
   ],
   "source": [
    "fig_layout = gmaps.figure( \n",
    "                    display_toolbar = True,\n",
    "                    display_errors = True,\n",
    "                    zoom_level = 2,\n",
    "                    tilt = 45,\n",
    "                    center = (0,30),\n",
    "                    layout = None,\n",
    "                    map_type = 'ROADMAP',\n",
    "                    mouse_handling ='COOPERATIVE', )\n",
    "fig_layout\n",
    "\n",
    "heat_layer = gmaps.heatmap_layer(locations, \n",
    "                                 weights = humidity, \n",
    "                                 dissipating = False, \n",
    "                                 max_intensity = 100,\n",
    "                                 point_radius = 3)\n",
    "\n",
    "fig_layout.add_layer(heat_layer)\n",
    "\n",
    "heat_map = fig_layout\n",
    "\n",
    "heat_map"
   ]
  },
  {
   "cell_type": "markdown",
   "metadata": {},
   "source": [
    "### Create new DataFrame fitting weather criteria\n",
    "* Narrow down the cities to fit weather conditions.\n",
    "* Drop any rows will null values."
   ]
  },
  {
   "cell_type": "code",
   "execution_count": 17,
   "metadata": {},
   "outputs": [
    {
     "data": {
      "text/html": [
       "<div>\n",
       "<style scoped>\n",
       "    .dataframe tbody tr th:only-of-type {\n",
       "        vertical-align: middle;\n",
       "    }\n",
       "\n",
       "    .dataframe tbody tr th {\n",
       "        vertical-align: top;\n",
       "    }\n",
       "\n",
       "    .dataframe thead th {\n",
       "        text-align: right;\n",
       "    }\n",
       "</style>\n",
       "<table border=\"1\" class=\"dataframe\">\n",
       "  <thead>\n",
       "    <tr style=\"text-align: right;\">\n",
       "      <th></th>\n",
       "      <th>City</th>\n",
       "      <th>Lat</th>\n",
       "      <th>Lng</th>\n",
       "      <th>Max Temp</th>\n",
       "      <th>Humidity</th>\n",
       "      <th>Cloudiness</th>\n",
       "      <th>Wind Speed</th>\n",
       "      <th>Country</th>\n",
       "      <th>Date</th>\n",
       "    </tr>\n",
       "  </thead>\n",
       "  <tbody>\n",
       "    <tr>\n",
       "      <th>17</th>\n",
       "      <td>Cidreira</td>\n",
       "      <td>-30.18</td>\n",
       "      <td>-50.21</td>\n",
       "      <td>21.75</td>\n",
       "      <td>82</td>\n",
       "      <td>0</td>\n",
       "      <td>9.47</td>\n",
       "      <td>BR</td>\n",
       "      <td>1603651926</td>\n",
       "    </tr>\n",
       "    <tr>\n",
       "      <th>25</th>\n",
       "      <td>Atuona</td>\n",
       "      <td>-9.80</td>\n",
       "      <td>-139.03</td>\n",
       "      <td>26.07</td>\n",
       "      <td>74</td>\n",
       "      <td>0</td>\n",
       "      <td>9.09</td>\n",
       "      <td>PF</td>\n",
       "      <td>1603651887</td>\n",
       "    </tr>\n",
       "    <tr>\n",
       "      <th>37</th>\n",
       "      <td>Charters Towers</td>\n",
       "      <td>-20.10</td>\n",
       "      <td>146.27</td>\n",
       "      <td>22.35</td>\n",
       "      <td>50</td>\n",
       "      <td>0</td>\n",
       "      <td>4.18</td>\n",
       "      <td>AU</td>\n",
       "      <td>1603651953</td>\n",
       "    </tr>\n",
       "    <tr>\n",
       "      <th>49</th>\n",
       "      <td>Faanui</td>\n",
       "      <td>-16.48</td>\n",
       "      <td>-151.75</td>\n",
       "      <td>26.62</td>\n",
       "      <td>69</td>\n",
       "      <td>0</td>\n",
       "      <td>1.79</td>\n",
       "      <td>PF</td>\n",
       "      <td>1603651970</td>\n",
       "    </tr>\n",
       "    <tr>\n",
       "      <th>77</th>\n",
       "      <td>Bourail</td>\n",
       "      <td>-21.57</td>\n",
       "      <td>165.48</td>\n",
       "      <td>21.79</td>\n",
       "      <td>81</td>\n",
       "      <td>0</td>\n",
       "      <td>1.95</td>\n",
       "      <td>NC</td>\n",
       "      <td>1603652012</td>\n",
       "    </tr>\n",
       "  </tbody>\n",
       "</table>\n",
       "</div>"
      ],
      "text/plain": [
       "               City    Lat     Lng  Max Temp  Humidity  Cloudiness  \\\n",
       "17         Cidreira -30.18  -50.21     21.75        82           0   \n",
       "25           Atuona  -9.80 -139.03     26.07        74           0   \n",
       "37  Charters Towers -20.10  146.27     22.35        50           0   \n",
       "49           Faanui -16.48 -151.75     26.62        69           0   \n",
       "77          Bourail -21.57  165.48     21.79        81           0   \n",
       "\n",
       "    Wind Speed Country        Date  \n",
       "17        9.47      BR  1603651926  \n",
       "25        9.09      PF  1603651887  \n",
       "37        4.18      AU  1603651953  \n",
       "49        1.79      PF  1603651970  \n",
       "77        1.95      NC  1603652012  "
      ]
     },
     "execution_count": 17,
     "metadata": {},
     "output_type": "execute_result"
    }
   ],
   "source": [
    "#Max Temp lower that 80 but higher than 70\n",
    "#Wind speed less than 10mph\n",
    "#Zero cloudiness\n",
    "#First must convert C to F\n",
    "#80F\n",
    "#((80-32)*(5/9)) = 26.67\n",
    "#70F\n",
    "#((70-32)*(5/9)) = 21.11\n",
    "\n",
    "narrow_df = (raw_df.loc[(raw_df[\"Max Temp\"] < 26.67) & \n",
    "                        (raw_df[\"Max Temp\"] > 21.11) & \n",
    "                        (raw_df[\"Wind Speed\"] < 10) & \n",
    "                        (raw_df[\"Cloudiness\"] == 0)])\n",
    "\n",
    "narrow_df = narrow_df.dropna(how = 'any')\n",
    "narrow_df.reset_index()\n",
    "\n",
    "narrow_df.head()"
   ]
  },
  {
   "cell_type": "markdown",
   "metadata": {},
   "source": [
    "### Hotel Map\n",
    "* Store into variable named `hotel_df`.\n",
    "* Add a \"Hotel Name\" column to the DataFrame.\n",
    "* Set parameters to search for hotels with 5000 meters.\n",
    "* Hit the Google Places API for each city's coordinates.\n",
    "* Store the first Hotel result into the DataFrame.\n",
    "* Plot markers on top of the heatmap."
   ]
  },
  {
   "cell_type": "code",
   "execution_count": null,
   "metadata": {},
   "outputs": [],
   "source": []
  },
  {
   "cell_type": "code",
   "execution_count": null,
   "metadata": {},
   "outputs": [],
   "source": []
  },
  {
   "cell_type": "code",
   "execution_count": null,
   "metadata": {},
   "outputs": [],
   "source": [
    "# NOTE: Do not change any of the code in this cell\n",
    "\n",
    "# Using the template add the hotel marks to the heatmap\n",
    "info_box_template = \"\"\"\n",
    "<dl>\n",
    "<dt>Name</dt><dd>{Hotel Name}</dd>\n",
    "<dt>City</dt><dd>{City}</dd>\n",
    "<dt>Country</dt><dd>{Country}</dd>\n",
    "</dl>\n",
    "\"\"\"\n",
    "# Store the DataFrame Row\n",
    "# NOTE: be sure to update with your DataFrame name\n",
    "hotel_info = [info_box_template.format(**row) for index, row in hotel_df.iterrows()]\n",
    "locations = hotel_df[[\"Lat\", \"Lng\"]]"
   ]
  },
  {
   "cell_type": "code",
   "execution_count": null,
   "metadata": {},
   "outputs": [],
   "source": [
    "# Add marker layer ontop of heat map\n",
    "\n",
    "\n",
    "# Display figure\n"
   ]
  },
  {
   "cell_type": "code",
   "execution_count": null,
   "metadata": {},
   "outputs": [],
   "source": []
  }
 ],
 "metadata": {
  "kernelspec": {
   "display_name": "Python [conda env:PythonData] *",
   "language": "python",
   "name": "conda-env-PythonData-py"
  },
  "language_info": {
   "codemirror_mode": {
    "name": "ipython",
    "version": 3
   },
   "file_extension": ".py",
   "mimetype": "text/x-python",
   "name": "python",
   "nbconvert_exporter": "python",
   "pygments_lexer": "ipython3",
   "version": "3.8.5"
  },
  "latex_envs": {
   "LaTeX_envs_menu_present": true,
   "autoclose": false,
   "autocomplete": true,
   "bibliofile": "biblio.bib",
   "cite_by": "apalike",
   "current_citInitial": 1,
   "eqLabelWithNumbers": true,
   "eqNumInitial": 1,
   "hotkeys": {
    "equation": "Ctrl-E",
    "itemize": "Ctrl-I"
   },
   "labels_anchors": false,
   "latex_user_defs": false,
   "report_style_numbering": false,
   "user_envs_cfg": false
  }
 },
 "nbformat": 4,
 "nbformat_minor": 4
}
